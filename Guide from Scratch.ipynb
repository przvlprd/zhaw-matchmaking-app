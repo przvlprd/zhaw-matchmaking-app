{
 "cells": [
  {
   "cell_type": "markdown",
   "id": "9222d130-23b6-426a-9b6f-5ebaeecbbf29",
   "metadata": {},
   "source": [
    "# ZHAW MatchMaking App - Guide from Scratch\n",
    "- this guide summarizes all steps taken to create the databases and hosting the app on `Replit` (or any other platform)\n",
    "- these steps are written down for reproducability, they are not optimized (redundancies included)"
   ]
  },
  {
   "cell_type": "markdown",
   "id": "a87d2420-ee71-4ea3-ba97-9a36682c8156",
   "metadata": {},
   "source": [
    "## Prerequisites\n",
    "You need the `combined.json` file which includes a list of dictionaries of all user data in the following format:</br>\n",
    "  ```\n",
    "  {\"name\":\"User Name\",\"shorthandSymbol\":\"xxxx\",\"profileURL\":\"https://www.zhaw.ch/de/ueber-uns/person/xxxx\",\"position\":\"Dozent/in\",\"institution\":\"ZHAW xxxx\",\"location\":\"xxxx\",\"phone\":\"xxxx\",\"email\":\"xxxx@zhaw.ch\",\"imageURL\":\"https://intra.zhaw.ch/forschungsdaten/portraet/images/xxxx.jpg\"}\n",
    "  ```\n",
    "\n",
    "- Clone the [repository](https://github.com/przvlprd/zhaw-matchmaking-app), create a virtual environment, activate it and install the requirements as described in the *Local Setup / Prerequisites* section in the `README.md`.</br>\n",
    "- Place the `combined.json` inside the `ingest` folder.</br>\n",
    "- Place your **OpenAI API key** in the `.env` file inside your local folder."
   ]
  },
  {
   "cell_type": "markdown",
   "id": "93872b90-aa66-43cb-bbbb-46540cae0161",
   "metadata": {},
   "source": [
    "### Setup MongoDB\n",
    "\n",
    "- install [MongoDB Community Edition](https://www.mongodb.com/try/download/community)\n",
    "- start up your local database, if you followed the default setup, on Windows you would run:\n",
    "```shell\n",
    "\"C:\\Program Files\\MongoDB\\Server\\7.0\\bin\\mongod.exe\" --dbpath=\"C:\\data\\db\"\n",
    "```\n",
    "- connect to the database, e.g. via Compass or [VSCode Plugin](https://www.mongodb.com/products/tools/vs-code)\n",
    "- once connected, create the database `zhaw_matchmaking`\n",
    "  - create 2 collections `persons` and `profile_data`\n",
    "\n",
    "### Scrape the profile data and fill your MongoDB with it\n",
    "\n",
    "- assuming you are already running this inside your virtual environment with the dependencies installed, run the notebook inside the `ingest` folder:\n",
    "    -  `Build Profile Database.ipynb` (simply run all cells in order from start to finish, **scraping will take around 2h**)"
   ]
  },
  {
   "cell_type": "markdown",
   "id": "24b3909d-613a-4973-99e3-9a8e76422c91",
   "metadata": {},
   "source": [
    "### Setup Pinecone\n",
    "\n",
    "- register a free tier account on [pinecone.io](https://www.pinecone.io/) and create a project with any name\n",
    "- create an **index** called `zhaw-matchmaking` with `1536` dimensions and `cosine` metric\n",
    "- create a Pinecone **API key** and copy it to the `.env` file inside your local folder\n",
    "    - make sure the other environment variables are set correctly, if you followed along, Pinecone environment and index should be equal to these:\n",
    "        ```\n",
    "        PINECONE_ENVIRONMENT=\"gcp-starter\"\n",
    "        PINECONE_INDEX=\"zhaw-matchmaking\"\n",
    "        ```\n",
    " \n",
    "### Fill the Pinecone vector database with the profile data and metadata from your MongoDB\n",
    "\n",
    "- with all environment variables set and your MongoDB still up and running, run the cell below\n",
    "- the script uses a pipeline to get the raw profile data and user data as metadata from your MongoDB collections, creates preprocessed chunks and embeds these using OpenAI embeddings, finally storing them in your Pinecone index\n",
    "- optional: to follow the steps taken in the script, there is another notebook in the [background material](https://github.com/przvlprd/zhaw-matchmaking-material/blob/main/2.%20Build%20Vector%20Database.ipynb) working with `ChromaDB` instead of Pinecone"
   ]
  },
  {
   "cell_type": "code",
   "execution_count": null,
   "id": "e7d3a5ad-4dd2-498f-8c4b-d511d49724fd",
   "metadata": {},
   "outputs": [],
   "source": [
    "# Run this cell or the script manually from your shell / IDE\n",
    "%run ingest/ingest.py"
   ]
  },
  {
   "cell_type": "markdown",
   "id": "db18a533-7047-4f4b-b469-5c57fc979aa4",
   "metadata": {},
   "source": [
    "### Run it locally...\n",
    "- now with the vector database set up, you can either run the Panel app locally:"
   ]
  },
  {
   "cell_type": "code",
   "execution_count": null,
   "id": "c2d5f8e7-1dc7-4c1a-a455-91eae24285e0",
   "metadata": {},
   "outputs": [],
   "source": [
    "!panel serve app.py --autoreload --show"
   ]
  },
  {
   "cell_type": "markdown",
   "id": "11d6f3f3-3b4f-47d4-a4e9-c84602f938de",
   "metadata": {},
   "source": [
    "- or run the server for the REST API locally:"
   ]
  },
  {
   "cell_type": "code",
   "execution_count": null,
   "id": "df896f8b-a006-49c3-a2fd-3ce8ec409051",
   "metadata": {},
   "outputs": [],
   "source": [
    "%run server.py"
   ]
  },
  {
   "cell_type": "markdown",
   "id": "5a0160ad-77bc-4536-a0be-d1efdff5e135",
   "metadata": {},
   "source": [
    "### ...or deploy the code\n",
    "- e.g. using `Replit`:\n",
    "    - register / log in to Replit\n",
    "    - click on `+ Create Repl` and `Import from Github`\n",
    "    - paste the repo url:\n",
    "      ```\n",
    "      https://github.com/przvlprd/zhaw-matchmaking-app\n",
    "      ```\n",
    "    - specify the startup script, e.g. like this:\n",
    "      ```\n",
    "      panel serve app.py --allow-websocket-origin=*\n",
    "      ```\n",
    "      </br>\n",
    "- Known errors & workarounds\n",
    "    - although Replit attempts to use the `requirements.txt` for setup, I had to manually install some modules again using the shell and `pip install <module>`\n",
    "    - if there is an error due to failed local import, copy the content of `ingest/preprocess_profile_data.py` to `chain.py`\n",
    "      and delete the following line inside `chain.py`:\n",
    "      ```\n",
    "      from ingest.preprocess_profile_data import preprocess_profile\n",
    "      ```\n",
    "      (this workaround is not needed when running locally)"
   ]
  },
  {
   "cell_type": "markdown",
   "id": "2de61729-a063-420b-bb72-81f6691bb2ca",
   "metadata": {},
   "source": [
    "### Feel free to reach out in case something is broken!"
   ]
  }
 ],
 "metadata": {
  "kernelspec": {
   "display_name": "Python 3 (ipykernel)",
   "language": "python",
   "name": "python3"
  },
  "language_info": {
   "codemirror_mode": {
    "name": "ipython",
    "version": 3
   },
   "file_extension": ".py",
   "mimetype": "text/x-python",
   "name": "python",
   "nbconvert_exporter": "python",
   "pygments_lexer": "ipython3",
   "version": "3.11.4"
  }
 },
 "nbformat": 4,
 "nbformat_minor": 5
}
