{
 "cells": [
  {
   "cell_type": "markdown",
   "id": "7d9a4f1e-fd58-4f73-8fdc-aa982da640ce",
   "metadata": {},
   "source": [
    "# Building the profile database with MongoDB"
   ]
  },
  {
   "cell_type": "markdown",
   "id": "667919aa-e768-4c57-8e7a-f58e05a8611e",
   "metadata": {},
   "source": [
    "### Prerequisites"
   ]
  },
  {
   "cell_type": "markdown",
   "id": "aa63e028-b5ce-46e3-8f5f-048df206cb7b",
   "metadata": {},
   "source": [
    "- MongoDB must be installed, your local database must be running, the collections should already be created\n",
    "- you should run this notebook in your virtual environment with all dependencies installed\n",
    "- see the notebook `Interactive Guide from Scratch.ipynb` for instructions\n",
    "- simply run all cells in order"
   ]
  },
  {
   "cell_type": "markdown",
   "id": "d57b7939-d03b-4b1f-a46b-182be39debb1",
   "metadata": {},
   "source": [
    "### Add all persons to our collection"
   ]
  },
  {
   "cell_type": "code",
   "execution_count": 3,
   "id": "2c567353-9f26-420e-a579-78723c33a09a",
   "metadata": {},
   "outputs": [],
   "source": [
    "import json\n",
    "from pymongo import MongoClient"
   ]
  },
  {
   "cell_type": "code",
   "execution_count": 5,
   "id": "794770f9-c681-46fe-89c5-0723bef3bfb8",
   "metadata": {},
   "outputs": [],
   "source": [
    "# Initialize the client\n",
    "client = MongoClient()\n",
    "\n",
    "# The database on the client we're connecting to\n",
    "db = client['zhaw_matchmaking']\n",
    "\n",
    "# The collection in the database we are using\n",
    "persons_collection = db['persons']"
   ]
  },
  {
   "cell_type": "code",
   "execution_count": 6,
   "id": "620e3e6e-fe16-4156-8c25-3b945fa2887f",
   "metadata": {},
   "outputs": [
    {
     "name": "stdout",
     "output_type": "stream",
     "text": [
      "Done.\n"
     ]
    }
   ],
   "source": [
    "# Read the provided JSON which contains the persons\n",
    "with open('combined.json', 'r') as json_file:\n",
    "    data = json.load(json_file)\n",
    "\n",
    "# Add them to our db\n",
    "for person in data:\n",
    "    # Add the \"status\" field with an initial value of \"pending\" for profile retrieval\n",
    "    person['status'] = 'pending'\n",
    "    \n",
    "    persons_collection.insert_one(person)\n",
    "\n",
    "print(\"Done.\")"
   ]
  },
  {
   "cell_type": "code",
   "execution_count": 13,
   "id": "51de0eee-abc5-45e3-809c-a274d0e53121",
   "metadata": {},
   "outputs": [
    {
     "name": "stdout",
     "output_type": "stream",
     "text": [
      "Persons in JSON: 4803\n",
      "Entries added to database: 4803\n"
     ]
    }
   ],
   "source": [
    "# Check if the number of entries are correct\n",
    "print(f\"Persons in JSON: {len(data)}\\nEntries added to database: {persons_collection.count_documents({})}\")"
   ]
  },
  {
   "cell_type": "markdown",
   "id": "7ec3716f-3d8a-4604-86fe-74630189f046",
   "metadata": {},
   "source": [
    "## Add the profile data to our collection\n",
    "\n",
    "- iterate over each person in the `persons` collection, scrape the raw data, and insert it into the `profile_data` collection"
   ]
  },
  {
   "cell_type": "code",
   "execution_count": 17,
   "id": "15c97959-00c6-4986-96ea-5c22dcec37e3",
   "metadata": {},
   "outputs": [],
   "source": [
    "import time\n",
    "import requests\n",
    "from tqdm import tqdm\n",
    "from bs4 import BeautifulSoup"
   ]
  },
  {
   "cell_type": "code",
   "execution_count": 18,
   "id": "773eb31d-e985-497e-a33e-dd6d7e9a6e20",
   "metadata": {},
   "outputs": [],
   "source": [
    "# The collection in the database we are using\n",
    "profile_data_collection = db['profile_data']"
   ]
  },
  {
   "cell_type": "markdown",
   "id": "8355deeb-e232-4a02-b9d1-717ebf82d774",
   "metadata": {},
   "source": [
    "### Function to retrieve a person's profile data"
   ]
  },
  {
   "cell_type": "code",
   "execution_count": 19,
   "id": "c21515d7-04aa-44a6-b3f1-1f90d8eeff17",
   "metadata": {},
   "outputs": [],
   "source": [
    "def get_raw_profile(url):\n",
    "    try:\n",
    "        response = requests.get(url)\n",
    "\n",
    "        # Raise an exception for non-200 status codes\n",
    "        response.raise_for_status()\n",
    "\n",
    "        soup = BeautifulSoup(response.text, 'html.parser')\n",
    "        profile = soup.find('div', class_='zhaw-person')\n",
    "\n",
    "        if profile:\n",
    "            return profile.get_text()\n",
    "        else:\n",
    "            raise Exception(f\"Profile data not found on the page.\\nURL: {url}\")\n",
    "\n",
    "    except requests.exceptions.RequestException as e:\n",
    "        # Handle request exceptions and raise a custom error\n",
    "        raise Exception(f\"Error while fetching data from {url}: {str(e)}\")\n",
    "\n",
    "    except Exception as e:\n",
    "        # Handle other exceptions that may occur during scraping\n",
    "        raise Exception(f\"Error during scraping from {url}: {str(e)}\")"
   ]
  },
  {
   "cell_type": "markdown",
   "id": "80b5489e-3d4b-41d0-a20c-7866f95730ca",
   "metadata": {},
   "source": [
    "### Main loop\n",
    "- this step takes quite a while (~2h)"
   ]
  },
  {
   "cell_type": "code",
   "execution_count": null,
   "id": "93239a98-11a0-424e-a05c-5ff166a19308",
   "metadata": {},
   "outputs": [],
   "source": [
    "# Get a progress bar for the loop\n",
    "total_persons = persons_collection.count_documents({})  # Total number of persons\n",
    "progress_bar = tqdm(total=total_persons, unit=\"person\")\n",
    "\n",
    "request_count = 0\n",
    "\n",
    "# Only choose persons with 'status': 'pending' (profile not yet retrieved)\n",
    "for person in persons_collection.find({'status': 'pending'}):\n",
    "    try:\n",
    "        # Get the profile data\n",
    "        rawProfileData = get_raw_profile(person['profileURL'])\n",
    "        \n",
    "        # Insert raw data into the profile_data collection\n",
    "        inserted_id = profile_data_collection.insert_one({\n",
    "            \"raw_data\": rawProfileData,\n",
    "            \"person_id\": person[\"_id\"]\n",
    "        }).inserted_id\n",
    "    \n",
    "        # Update the person in the persons_collection with the reference to the raw data\n",
    "        persons_collection.update_one(\n",
    "            {\"_id\": person[\"_id\"]},\n",
    "            {\"$set\": {\"profile_data_id\": inserted_id}}\n",
    "        )\n",
    "\n",
    "        # If the processing is successful, update the status to \"success\"\n",
    "        persons_collection.update_one(\n",
    "            {\"_id\": person[\"_id\"]},\n",
    "            {\"$set\": {\"status\": \"success\"}}\n",
    "        )\n",
    "\n",
    "        # To avoid overloading the server / getting blocked\n",
    "        request_count += 1\n",
    "    \n",
    "        # After 10 requests, pause for 1 second and reset counter\n",
    "        if request_count >= 10:\n",
    "            time.sleep(1)  # pause for 1 second\n",
    "            request_count = 0\n",
    "\n",
    "    except Exception as e:\n",
    "        # If there's an error, update the status to \"error\" and log the error\n",
    "        persons_collection.update_one(\n",
    "            {\"_id\": person[\"_id\"]},\n",
    "            {\"$set\": {\"status\": \"error\"}}\n",
    "        )\n",
    "        print(f\"Error processing {person['name']}: {str(e)}\")\n",
    "\n",
    "    # Update the progress bar\n",
    "    finally:\n",
    "        progress_bar.update(1)\n",
    "        \n",
    "\n",
    "progress_bar.close()"
   ]
  },
  {
   "cell_type": "code",
   "execution_count": 28,
   "id": "7464a51c-1964-444a-b72a-481b98f66bbb",
   "metadata": {},
   "outputs": [
    {
     "name": "stdout",
     "output_type": "stream",
     "text": [
      "======\n",
      "Result\n",
      "======\n",
      "\n",
      "Successful: 91.19%\n",
      "Missing: 423 profiles\n"
     ]
    }
   ],
   "source": [
    "num_successful = persons_collection.count_documents({'status': 'success'})\n",
    "\n",
    "print(f\"======\\nResult\\n======\\n\\nSuccessful: {num_successful / total_persons * 100:.2f}%\\nMissing: {total_persons - num_successful} profiles\")"
   ]
  },
  {
   "cell_type": "markdown",
   "id": "3632e4cc-a489-4c7e-be13-94aacb12797f",
   "metadata": {},
   "source": [
    "## Once we're finished"
   ]
  },
  {
   "cell_type": "code",
   "execution_count": null,
   "id": "b23eb116-8ba1-4c19-bc08-42785f1e7fca",
   "metadata": {},
   "outputs": [],
   "source": [
    "# Close connection to the database\n",
    "client.close"
   ]
  }
 ],
 "metadata": {
  "kernelspec": {
   "display_name": "Python 3 (ipykernel)",
   "language": "python",
   "name": "python3"
  },
  "language_info": {
   "codemirror_mode": {
    "name": "ipython",
    "version": 3
   },
   "file_extension": ".py",
   "mimetype": "text/x-python",
   "name": "python",
   "nbconvert_exporter": "python",
   "pygments_lexer": "ipython3",
   "version": "3.11.4"
  }
 },
 "nbformat": 4,
 "nbformat_minor": 5
}
